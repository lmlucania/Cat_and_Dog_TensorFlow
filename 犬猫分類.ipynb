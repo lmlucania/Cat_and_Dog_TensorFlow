{
  "nbformat": 4,
  "nbformat_minor": 0,
  "metadata": {
    "colab": {
      "name": "犬猫分類.ipynb",
      "provenance": [],
      "authorship_tag": "ABX9TyMAH8Q+QFobrKA3UTl8XwvR",
      "include_colab_link": true
    },
    "kernelspec": {
      "name": "python3",
      "display_name": "Python 3"
    },
    "accelerator": "GPU"
  },
  "cells": [
    {
      "cell_type": "markdown",
      "metadata": {
        "id": "view-in-github",
        "colab_type": "text"
      },
      "source": [
        "<a href=\"https://colab.research.google.com/github/lmlucania/TensorFlow/blob/master/%E7%8A%AC%E7%8C%AB%E5%88%86%E9%A1%9E.ipynb\" target=\"_parent\"><img src=\"https://colab.research.google.com/assets/colab-badge.svg\" alt=\"Open In Colab\"/></a>"
      ]
    },
    {
      "cell_type": "code",
      "metadata": {
        "id": "0ROGME8txOKR",
        "colab_type": "code",
        "colab": {
          "base_uri": "https://localhost:8080/",
          "height": 187
        },
        "outputId": "6e0db648-388e-4d11-e6bf-76854bac1f30"
      },
      "source": [
        "!pip show tensorflow"
      ],
      "execution_count": 1,
      "outputs": [
        {
          "output_type": "stream",
          "text": [
            "Name: tensorflow\n",
            "Version: 2.3.0\n",
            "Summary: TensorFlow is an open source machine learning framework for everyone.\n",
            "Home-page: https://www.tensorflow.org/\n",
            "Author: Google Inc.\n",
            "Author-email: packages@tensorflow.org\n",
            "License: Apache 2.0\n",
            "Location: /usr/local/lib/python3.6/dist-packages\n",
            "Requires: numpy, tensorboard, termcolor, absl-py, wrapt, protobuf, gast, six, opt-einsum, tensorflow-estimator, google-pasta, scipy, grpcio, keras-preprocessing, astunparse, h5py, wheel\n",
            "Required-by: fancyimpute\n"
          ],
          "name": "stdout"
        }
      ]
    },
    {
      "cell_type": "code",
      "metadata": {
        "id": "H7f5M2zgRMZw",
        "colab_type": "code",
        "colab": {
          "base_uri": "https://localhost:8080/",
          "height": 34
        },
        "outputId": "9474dbe9-b27c-4fff-f87d-f51cc308a75d"
      },
      "source": [
        "from google.colab import drive\n",
        "drive.mount('/content/drive')"
      ],
      "execution_count": 2,
      "outputs": [
        {
          "output_type": "stream",
          "text": [
            "Drive already mounted at /content/drive; to attempt to forcibly remount, call drive.mount(\"/content/drive\", force_remount=True).\n"
          ],
          "name": "stdout"
        }
      ]
    },
    {
      "cell_type": "code",
      "metadata": {
        "id": "0YFHY4GVRNkI",
        "colab_type": "code",
        "colab": {
          "base_uri": "https://localhost:8080/",
          "height": 51
        },
        "outputId": "9ef3252d-18c9-491e-8f2d-601a49c661e2"
      },
      "source": [
        "import os\n",
        "%cd /content/drive/My Drive/cats_and_dogs\n",
        "%ls"
      ],
      "execution_count": 3,
      "outputs": [
        {
          "output_type": "stream",
          "text": [
            "/content/drive/My Drive/cats_and_dogs\n",
            "\u001b[0m\u001b[01;34mtrain\u001b[0m/  \u001b[01;34mvalidation\u001b[0m/\n"
          ],
          "name": "stdout"
        }
      ]
    },
    {
      "cell_type": "code",
      "metadata": {
        "id": "5q1lMBe5RhYh",
        "colab_type": "code",
        "colab": {}
      },
      "source": [
        "train_dir = \"/content/drive/My Drive/cats_and_dogs/train\"\n",
        "validation_dir = \"/content/drive/My Drive/cats_and_dogs/validation\""
      ],
      "execution_count": 4,
      "outputs": []
    },
    {
      "cell_type": "code",
      "metadata": {
        "id": "hQ_YLcKJCGWq",
        "colab_type": "code",
        "colab": {}
      },
      "source": [
        "from tensorflow.keras import layers\n",
        "from tensorflow.keras import Model\n",
        "from tensorflow.keras.preprocessing.image import ImageDataGenerator"
      ],
      "execution_count": 5,
      "outputs": []
    },
    {
      "cell_type": "code",
      "metadata": {
        "id": "j_Q4hnYgN1Rb",
        "colab_type": "code",
        "colab": {}
      },
      "source": [
        "num_batches = 100"
      ],
      "execution_count": 6,
      "outputs": []
    },
    {
      "cell_type": "code",
      "metadata": {
        "id": "q1PqQnxyM7hM",
        "colab_type": "code",
        "colab": {
          "base_uri": "https://localhost:8080/",
          "height": 51
        },
        "outputId": "7faa8dd1-c1b4-4432-800c-e0aa0d0d0538"
      },
      "source": [
        "train_datagen = ImageDataGenerator(rescale=1./255,\n",
        "                                   rotation_range=20,\n",
        "                                   shear_range=0.2,\n",
        "                                   zoom_range=0.2,\n",
        "                                   horizontal_flip=True,\n",
        "                                   fill_mode=\"nearest\")\n",
        "validation_datagen = ImageDataGenerator(rescale=1./255)\n",
        "train_generator = train_datagen.flow_from_directory(\n",
        "        train_dir,\n",
        "        target_size=(128, 128),\n",
        "        batch_size=num_batches,\n",
        "        class_mode=\"binary\"\n",
        ")\n",
        "validation_generator = validation_datagen.flow_from_directory(\n",
        "        validation_dir,\n",
        "        target_size=(128, 128),\n",
        "        batch_size=50,\n",
        "        class_mode=\"binary\"\n",
        ")"
      ],
      "execution_count": 7,
      "outputs": [
        {
          "output_type": "stream",
          "text": [
            "Found 2000 images belonging to 2 classes.\n",
            "Found 500 images belonging to 2 classes.\n"
          ],
          "name": "stdout"
        }
      ]
    },
    {
      "cell_type": "code",
      "metadata": {
        "id": "uUakhjSvEfTv",
        "colab_type": "code",
        "colab": {}
      },
      "source": [
        "img_input = layers.Input(shape=(128, 128, 3))\n",
        "x = layers.Conv2D(16, 3, activation=\"relu\")(img_input)\n",
        "x = layers.MaxPool2D(2)(x)\n",
        "x = layers.Conv2D(32, 3, activation=\"relu\")(img_input)\n",
        "x = layers.MaxPool2D(2)(x)\n",
        "x = layers.Conv2D(64, 3, activation=\"relu\")(img_input)\n",
        "x = layers.MaxPool2D(2)(x)\n",
        "x = layers.Conv2D(128, 3, activation=\"relu\")(img_input)\n",
        "x = layers.MaxPool2D(2)(x)"
      ],
      "execution_count": 8,
      "outputs": []
    },
    {
      "cell_type": "code",
      "metadata": {
        "id": "RErLLoTEFUoS",
        "colab_type": "code",
        "colab": {}
      },
      "source": [
        "x = layers.Flatten()(x)\n",
        "x = layers.Dense(512, activation=\"relu\")(x)\n",
        "x = layers.Dropout(0.5)(x)\n",
        "output = layers.Dense(1, activation=\"sigmoid\")(x)\n",
        "model = Model(img_input, output)"
      ],
      "execution_count": 9,
      "outputs": []
    },
    {
      "cell_type": "code",
      "metadata": {
        "id": "xto1PoL_GGXC",
        "colab_type": "code",
        "colab": {
          "base_uri": "https://localhost:8080/",
          "height": 391
        },
        "outputId": "f8cea5fb-c0b5-4c4d-87d0-ad7034660590"
      },
      "source": [
        "model.summary()"
      ],
      "execution_count": 10,
      "outputs": [
        {
          "output_type": "stream",
          "text": [
            "Model: \"functional_1\"\n",
            "_________________________________________________________________\n",
            "Layer (type)                 Output Shape              Param #   \n",
            "=================================================================\n",
            "input_1 (InputLayer)         [(None, 128, 128, 3)]     0         \n",
            "_________________________________________________________________\n",
            "conv2d_3 (Conv2D)            (None, 126, 126, 128)     3584      \n",
            "_________________________________________________________________\n",
            "max_pooling2d_3 (MaxPooling2 (None, 63, 63, 128)       0         \n",
            "_________________________________________________________________\n",
            "flatten (Flatten)            (None, 508032)            0         \n",
            "_________________________________________________________________\n",
            "dense (Dense)                (None, 512)               260112896 \n",
            "_________________________________________________________________\n",
            "dropout (Dropout)            (None, 512)               0         \n",
            "_________________________________________________________________\n",
            "dense_1 (Dense)              (None, 1)                 513       \n",
            "=================================================================\n",
            "Total params: 260,116,993\n",
            "Trainable params: 260,116,993\n",
            "Non-trainable params: 0\n",
            "_________________________________________________________________\n"
          ],
          "name": "stdout"
        }
      ]
    },
    {
      "cell_type": "code",
      "metadata": {
        "id": "Y0Kf0822GQaM",
        "colab_type": "code",
        "colab": {}
      },
      "source": [
        "from tensorflow.keras.optimizers import Adam\n",
        "model.compile(loss=\"binary_crossentropy\",\n",
        "              optimizer=Adam(lr=0.001),\n",
        "              metrics=['acc'])"
      ],
      "execution_count": 11,
      "outputs": []
    },
    {
      "cell_type": "code",
      "metadata": {
        "id": "-dGCvMh_M66q",
        "colab_type": "code",
        "colab": {
          "base_uri": "https://localhost:8080/",
          "height": 765
        },
        "outputId": "1814f342-4b6d-4954-9cbd-12011fa8ffe0"
      },
      "source": [
        "history = model.fit_generator(\n",
        "    train_generator,\n",
        "    steps_per_epoch=20,\n",
        "    epochs=20,\n",
        "    validation_data=validation_generator,\n",
        "    validation_steps=10,\n",
        "    verbose=2\n",
        "    )"
      ],
      "execution_count": 12,
      "outputs": [
        {
          "output_type": "stream",
          "text": [
            "WARNING:tensorflow:From <ipython-input-12-b8a215a6a1c1>:7: Model.fit_generator (from tensorflow.python.keras.engine.training) is deprecated and will be removed in a future version.\n",
            "Instructions for updating:\n",
            "Please use Model.fit, which supports generators.\n",
            "Epoch 1/20\n",
            "WARNING:tensorflow:Callbacks method `on_train_batch_end` is slow compared to the batch time (batch time: 0.0581s vs `on_train_batch_end` time: 0.1560s). Check your callbacks.\n",
            "20/20 - 15s - loss: 7.3442 - acc: 0.4900 - val_loss: 0.6825 - val_acc: 0.5080\n",
            "Epoch 2/20\n",
            "20/20 - 16s - loss: 0.6987 - acc: 0.5135 - val_loss: 0.6850 - val_acc: 0.5180\n",
            "Epoch 3/20\n",
            "20/20 - 16s - loss: 0.6931 - acc: 0.5245 - val_loss: 0.6780 - val_acc: 0.5160\n",
            "Epoch 4/20\n",
            "20/20 - 16s - loss: 0.6838 - acc: 0.5430 - val_loss: 0.6457 - val_acc: 0.6200\n",
            "Epoch 5/20\n",
            "20/20 - 16s - loss: 0.6759 - acc: 0.5855 - val_loss: 0.6760 - val_acc: 0.6080\n",
            "Epoch 6/20\n",
            "20/20 - 16s - loss: 0.6724 - acc: 0.6035 - val_loss: 0.6544 - val_acc: 0.6420\n",
            "Epoch 7/20\n",
            "20/20 - 16s - loss: 0.6454 - acc: 0.6445 - val_loss: 0.6382 - val_acc: 0.6460\n",
            "Epoch 8/20\n",
            "20/20 - 16s - loss: 0.6245 - acc: 0.6605 - val_loss: 0.6251 - val_acc: 0.6520\n",
            "Epoch 9/20\n",
            "20/20 - 16s - loss: 0.6232 - acc: 0.6405 - val_loss: 0.6135 - val_acc: 0.6760\n",
            "Epoch 10/20\n",
            "20/20 - 16s - loss: 0.6112 - acc: 0.6710 - val_loss: 0.6103 - val_acc: 0.6780\n",
            "Epoch 11/20\n",
            "20/20 - 16s - loss: 0.5880 - acc: 0.6860 - val_loss: 0.6192 - val_acc: 0.6640\n",
            "Epoch 12/20\n",
            "20/20 - 16s - loss: 0.5908 - acc: 0.7025 - val_loss: 0.5972 - val_acc: 0.6960\n",
            "Epoch 13/20\n",
            "20/20 - 16s - loss: 0.5648 - acc: 0.7150 - val_loss: 0.6071 - val_acc: 0.6620\n",
            "Epoch 14/20\n",
            "20/20 - 16s - loss: 0.5639 - acc: 0.7235 - val_loss: 0.5734 - val_acc: 0.7020\n",
            "Epoch 15/20\n",
            "20/20 - 16s - loss: 0.5460 - acc: 0.7205 - val_loss: 0.5816 - val_acc: 0.7080\n",
            "Epoch 16/20\n",
            "20/20 - 16s - loss: 0.5323 - acc: 0.7295 - val_loss: 0.5671 - val_acc: 0.7260\n",
            "Epoch 17/20\n",
            "20/20 - 16s - loss: 0.5282 - acc: 0.7330 - val_loss: 0.6257 - val_acc: 0.6780\n",
            "Epoch 18/20\n",
            "20/20 - 16s - loss: 0.5378 - acc: 0.7310 - val_loss: 0.6103 - val_acc: 0.7040\n",
            "Epoch 19/20\n",
            "20/20 - 16s - loss: 0.5183 - acc: 0.7500 - val_loss: 0.6216 - val_acc: 0.6820\n",
            "Epoch 20/20\n",
            "20/20 - 16s - loss: 0.5050 - acc: 0.7590 - val_loss: 0.5747 - val_acc: 0.7380\n"
          ],
          "name": "stdout"
        }
      ]
    },
    {
      "cell_type": "code",
      "metadata": {
        "id": "6aL87LQsMuFq",
        "colab_type": "code",
        "colab": {
          "base_uri": "https://localhost:8080/",
          "height": 282
        },
        "outputId": "aae84c19-f4ce-4ec6-8be6-8eccf9ab8acc"
      },
      "source": [
        "import matplotlib.pyplot as plt\n",
        "accs = history.history[\"acc\"]\n",
        "val_accs = history.history['val_acc']\n",
        "losses = history.history[\"loss\"]\n",
        "val_losses = history.history[\"val_acc\"]\n",
        "plt.plot(accs, label=\"train acc\")\n",
        "plt.plot(val_accs, label=\"validation acc\")\n",
        "plt.legend()\n"
      ],
      "execution_count": 13,
      "outputs": [
        {
          "output_type": "execute_result",
          "data": {
            "text/plain": [
              "<matplotlib.legend.Legend at 0x7f21f03c2c50>"
            ]
          },
          "metadata": {
            "tags": []
          },
          "execution_count": 13
        },
        {
          "output_type": "display_data",
          "data": {
            "image/png": "[encoded data removed]",
            "text/plain": [
              "<Figure size 432x288 with 1 Axes>"
            ]
          },
          "metadata": {
            "tags": [],
            "needs_background": "light"
          }
        }
      ]
    },
    {
      "cell_type": "code",
      "metadata": {
        "id": "VuhKYznIW0Sn",
        "colab_type": "code",
        "colab": {
          "base_uri": "https://localhost:8080/",
          "height": 282
        },
        "outputId": "faa87a97-b4c5-48d5-856d-b0beaac58fb9"
      },
      "source": [
        "plt.plot(losses, label=\"train loss\")\n",
        "plt.plot(val_losses, label=\"validation loss\")\n",
        "plt.legend()"
      ],
      "execution_count": 14,
      "outputs": [
        {
          "output_type": "execute_result",
          "data": {
            "text/plain": [
              "<matplotlib.legend.Legend at 0x7f21f00f6710>"
            ]
          },
          "metadata": {
            "tags": []
          },
          "execution_count": 14
        },
        {
          "output_type": "display_data",
          "data": {
            "image/png": "[encoded data removed]",
            "text/plain": [
              "<Figure size 432x288 with 1 Axes>"
            ]
          },
          "metadata": {
            "tags": [],
            "needs_background": "light"
          }
        }
      ]
    },
    {
      "cell_type": "code",
      "metadata": {
        "id": "gpkvCJq7Yn5P",
        "colab_type": "code",
        "colab": {}
      },
      "source": [
        ""
      ],
      "execution_count": 14,
      "outputs": []
    }
  ]
}