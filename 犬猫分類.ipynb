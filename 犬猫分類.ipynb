{
  "nbformat": 4,
  "nbformat_minor": 0,
  "metadata": {
    "colab": {
      "name": "犬猫分類.ipynb",
      "provenance": [],
      "authorship_tag": "ABX9TyPzRQxKULGsQtErCVySy5qw",
      "include_colab_link": true
    },
    "kernelspec": {
      "name": "python3",
      "display_name": "Python 3"
    },
    "accelerator": "GPU"
  },
  "cells": [
    {
      "cell_type": "markdown",
      "metadata": {
        "id": "view-in-github",
        "colab_type": "text"
      },
      "source": [
        "<a href=\"https://colab.research.google.com/github/lmlucania/TensorFlow/blob/master/%E7%8A%AC%E7%8C%AB%E5%88%86%E9%A1%9E.ipynb\" target=\"_parent\"><img src=\"https://colab.research.google.com/assets/colab-badge.svg\" alt=\"Open In Colab\"/></a>"
      ]
    },
    {
      "cell_type": "code",
      "metadata": {
        "id": "0ROGME8txOKR",
        "colab_type": "code",
        "colab": {
          "base_uri": "https://localhost:8080/",
          "height": 187
        },
        "outputId": "2c827293-4317-4b23-c9d2-4c5c625a01fb"
      },
      "source": [
        "!pip show tensorflow"
      ],
      "execution_count": null,
      "outputs": [
        {
          "output_type": "stream",
          "text": [
            "Name: tensorflow\n",
            "Version: 2.3.0\n",
            "Summary: TensorFlow is an open source machine learning framework for everyone.\n",
            "Home-page: https://www.tensorflow.org/\n",
            "Author: Google Inc.\n",
            "Author-email: packages@tensorflow.org\n",
            "License: Apache 2.0\n",
            "Location: /usr/local/lib/python3.6/dist-packages\n",
            "Requires: grpcio, tensorboard, opt-einsum, h5py, tensorflow-estimator, wheel, keras-preprocessing, protobuf, astunparse, wrapt, six, scipy, google-pasta, absl-py, termcolor, gast, numpy\n",
            "Required-by: fancyimpute\n"
          ],
          "name": "stdout"
        }
      ]
    },
    {
      "cell_type": "code",
      "metadata": {
        "id": "H7f5M2zgRMZw",
        "colab_type": "code",
        "colab": {
          "base_uri": "https://localhost:8080/",
          "height": 34
        },
        "outputId": "ff888397-0f84-4f0f-9aad-1bae4f85ac71"
      },
      "source": [
        "from google.colab import drive\n",
        "drive.mount('/content/drive')"
      ],
      "execution_count": null,
      "outputs": [
        {
          "output_type": "stream",
          "text": [
            "Drive already mounted at /content/drive; to attempt to forcibly remount, call drive.mount(\"/content/drive\", force_remount=True).\n"
          ],
          "name": "stdout"
        }
      ]
    },
    {
      "cell_type": "code",
      "metadata": {
        "id": "0YFHY4GVRNkI",
        "colab_type": "code",
        "colab": {
          "base_uri": "https://localhost:8080/",
          "height": 51
        },
        "outputId": "f0b84af3-4366-4cb9-a9ff-0a4bb16d157e"
      },
      "source": [
        "import os\n",
        "%cd /content/drive/My Drive/cats_and_dogs\n",
        "%ls"
      ],
      "execution_count": null,
      "outputs": [
        {
          "output_type": "stream",
          "text": [
            "/content/drive/My Drive/cats_and_dogs\n",
            "\u001b[0m\u001b[01;34mtrain\u001b[0m/  \u001b[01;34mvalidation\u001b[0m/\n"
          ],
          "name": "stdout"
        }
      ]
    },
    {
      "cell_type": "code",
      "metadata": {
        "id": "5q1lMBe5RhYh",
        "colab_type": "code",
        "colab": {}
      },
      "source": [
        "train_dir = \"/content/drive/My Drive/cats_and_dogs/train\"\n",
        "validation_dir = \"/content/drive/My Drive/cats_and_dogs/validation\""
      ],
      "execution_count": null,
      "outputs": []
    },
    {
      "cell_type": "code",
      "metadata": {
        "id": "hQ_YLcKJCGWq",
        "colab_type": "code",
        "colab": {}
      },
      "source": [
        "from tensorflow.keras import layers\n",
        "from tensorflow.keras import Model\n",
        "from tensorflow.keras.preprocessing.image import ImageDataGenerator"
      ],
      "execution_count": null,
      "outputs": []
    },
    {
      "cell_type": "code",
      "metadata": {
        "id": "j_Q4hnYgN1Rb",
        "colab_type": "code",
        "colab": {}
      },
      "source": [
        "num_batches = 100"
      ],
      "execution_count": null,
      "outputs": []
    },
    {
      "cell_type": "code",
      "metadata": {
        "id": "q1PqQnxyM7hM",
        "colab_type": "code",
        "colab": {
          "base_uri": "https://localhost:8080/",
          "height": 51
        },
        "outputId": "d7d12f60-6189-439a-e735-51a2685e7feb"
      },
      "source": [
        "train_datagen = ImageDataGenerator(rescale=1./255)\n",
        "validation_datagen = ImageDataGenerator(rescale=1./255)\n",
        "train_generator = train_datagen.flow_from_directory(\n",
        "        train_dir,\n",
        "        target_size=(128, 128),\n",
        "        batch_size=num_batches,\n",
        "        class_mode=\"binary\"\n",
        ")\n",
        "validation_generator = validation_datagen.flow_from_directory(\n",
        "        validation_dir,\n",
        "        target_size=(128, 128),\n",
        "        batch_size=50,\n",
        "        class_mode=\"binary\"\n",
        ")"
      ],
      "execution_count": null,
      "outputs": [
        {
          "output_type": "stream",
          "text": [
            "Found 2000 images belonging to 2 classes.\n",
            "Found 500 images belonging to 2 classes.\n"
          ],
          "name": "stdout"
        }
      ]
    },
    {
      "cell_type": "code",
      "metadata": {
        "id": "uUakhjSvEfTv",
        "colab_type": "code",
        "colab": {}
      },
      "source": [
        "img_input = layers.Input(shape=(128, 128, 3))\n",
        "x = layers.Conv2D(16, 3, activation=\"relu\")(img_input)\n",
        "x = layers.MaxPool2D(2)(x)\n",
        "x = layers.Conv2D(32, 3, activation=\"relu\")(img_input)\n",
        "x = layers.MaxPool2D(2)(x)\n",
        "x = layers.Conv2D(64, 3, activation=\"relu\")(img_input)\n",
        "x = layers.MaxPool2D(2)(x)"
      ],
      "execution_count": null,
      "outputs": []
    },
    {
      "cell_type": "code",
      "metadata": {
        "id": "RErLLoTEFUoS",
        "colab_type": "code",
        "colab": {}
      },
      "source": [
        "x = layers.Flatten()(x)\n",
        "x = layers.Dense(512, activation=\"relu\")(x)\n",
        "output = layers.Dense(1, activation=\"sigmoid\")(x)\n",
        "model = Model(img_input, output)"
      ],
      "execution_count": null,
      "outputs": []
    },
    {
      "cell_type": "code",
      "metadata": {
        "id": "xto1PoL_GGXC",
        "colab_type": "code",
        "colab": {
          "base_uri": "https://localhost:8080/",
          "height": 357
        },
        "outputId": "dd28982d-62f9-456b-86ad-3c48766b867e"
      },
      "source": [
        "model.summary()"
      ],
      "execution_count": null,
      "outputs": [
        {
          "output_type": "stream",
          "text": [
            "Model: \"functional_1\"\n",
            "_________________________________________________________________\n",
            "Layer (type)                 Output Shape              Param #   \n",
            "=================================================================\n",
            "input_1 (InputLayer)         [(None, 128, 128, 3)]     0         \n",
            "_________________________________________________________________\n",
            "conv2d_2 (Conv2D)            (None, 126, 126, 64)      1792      \n",
            "_________________________________________________________________\n",
            "max_pooling2d_2 (MaxPooling2 (None, 63, 63, 64)        0         \n",
            "_________________________________________________________________\n",
            "flatten (Flatten)            (None, 254016)            0         \n",
            "_________________________________________________________________\n",
            "dense (Dense)                (None, 512)               130056704 \n",
            "_________________________________________________________________\n",
            "dense_1 (Dense)              (None, 1)                 513       \n",
            "=================================================================\n",
            "Total params: 130,059,009\n",
            "Trainable params: 130,059,009\n",
            "Non-trainable params: 0\n",
            "_________________________________________________________________\n"
          ],
          "name": "stdout"
        }
      ]
    },
    {
      "cell_type": "code",
      "metadata": {
        "id": "Y0Kf0822GQaM",
        "colab_type": "code",
        "colab": {}
      },
      "source": [
        "from tensorflow.keras.optimizers import Adam\n",
        "model.compile(loss=\"binary_crossentropy\",\n",
        "              optimizer=Adam(lr=0.001),\n",
        "              metrics=['acc'])"
      ],
      "execution_count": null,
      "outputs": []
    },
    {
      "cell_type": "code",
      "metadata": {
        "id": "-dGCvMh_M66q",
        "colab_type": "code",
        "colab": {
          "base_uri": "https://localhost:8080/",
          "height": 748
        },
        "outputId": "456ea036-b0ee-4563-a6a6-1c4384ad198d"
      },
      "source": [
        "history = model.fit_generator(\n",
        "    train_generator,\n",
        "    steps_per_epoch=20,\n",
        "    epochs=20,\n",
        "    validation_data=validation_generator,\n",
        "    validation_steps=10,\n",
        "    verbose=2\n",
        "    )"
      ],
      "execution_count": null,
      "outputs": [
        {
          "output_type": "stream",
          "text": [
            "WARNING:tensorflow:From <ipython-input-12-b8a215a6a1c1>:7: Model.fit_generator (from tensorflow.python.keras.engine.training) is deprecated and will be removed in a future version.\n",
            "Instructions for updating:\n",
            "Please use Model.fit, which supports generators.\n",
            "Epoch 1/20\n",
            "20/20 - 10s - loss: 11.2518 - acc: 0.5000 - val_loss: 2.0198 - val_acc: 0.5000\n",
            "Epoch 2/20\n",
            "20/20 - 10s - loss: 0.9088 - acc: 0.5540 - val_loss: 0.6528 - val_acc: 0.6260\n",
            "Epoch 3/20\n",
            "20/20 - 9s - loss: 0.5673 - acc: 0.7375 - val_loss: 0.6141 - val_acc: 0.6660\n",
            "Epoch 4/20\n",
            "20/20 - 9s - loss: 0.4072 - acc: 0.8580 - val_loss: 0.6271 - val_acc: 0.6480\n",
            "Epoch 5/20\n",
            "20/20 - 9s - loss: 0.2519 - acc: 0.9245 - val_loss: 0.6378 - val_acc: 0.6600\n",
            "Epoch 6/20\n",
            "20/20 - 9s - loss: 0.1408 - acc: 0.9700 - val_loss: 0.7127 - val_acc: 0.6460\n",
            "Epoch 7/20\n",
            "20/20 - 9s - loss: 0.0737 - acc: 0.9915 - val_loss: 0.9204 - val_acc: 0.6540\n",
            "Epoch 8/20\n",
            "20/20 - 9s - loss: 0.0349 - acc: 0.9975 - val_loss: 0.8605 - val_acc: 0.6660\n",
            "Epoch 9/20\n",
            "20/20 - 9s - loss: 0.0152 - acc: 0.9995 - val_loss: 0.9546 - val_acc: 0.6760\n",
            "Epoch 10/20\n",
            "20/20 - 9s - loss: 0.0070 - acc: 1.0000 - val_loss: 1.0120 - val_acc: 0.6740\n",
            "Epoch 11/20\n",
            "20/20 - 9s - loss: 0.0037 - acc: 1.0000 - val_loss: 1.0537 - val_acc: 0.6760\n",
            "Epoch 12/20\n",
            "20/20 - 9s - loss: 0.0023 - acc: 1.0000 - val_loss: 1.1040 - val_acc: 0.6780\n",
            "Epoch 13/20\n",
            "20/20 - 9s - loss: 0.0016 - acc: 1.0000 - val_loss: 1.0994 - val_acc: 0.6820\n",
            "Epoch 14/20\n",
            "20/20 - 10s - loss: 0.0012 - acc: 1.0000 - val_loss: 1.1606 - val_acc: 0.6720\n",
            "Epoch 15/20\n",
            "20/20 - 9s - loss: 8.6874e-04 - acc: 1.0000 - val_loss: 1.1611 - val_acc: 0.6900\n",
            "Epoch 16/20\n",
            "20/20 - 10s - loss: 6.8863e-04 - acc: 1.0000 - val_loss: 1.2139 - val_acc: 0.6720\n",
            "Epoch 17/20\n",
            "20/20 - 9s - loss: 5.5674e-04 - acc: 1.0000 - val_loss: 1.2111 - val_acc: 0.6880\n",
            "Epoch 18/20\n",
            "20/20 - 9s - loss: 4.6761e-04 - acc: 1.0000 - val_loss: 1.2376 - val_acc: 0.6760\n",
            "Epoch 19/20\n",
            "20/20 - 9s - loss: 3.8318e-04 - acc: 1.0000 - val_loss: 1.2463 - val_acc: 0.6880\n",
            "Epoch 20/20\n",
            "20/20 - 10s - loss: 3.2201e-04 - acc: 1.0000 - val_loss: 1.2717 - val_acc: 0.6820\n"
          ],
          "name": "stdout"
        }
      ]
    },
    {
      "cell_type": "code",
      "metadata": {
        "id": "6aL87LQsMuFq",
        "colab_type": "code",
        "colab": {
          "base_uri": "https://localhost:8080/",
          "height": 282
        },
        "outputId": "4316fbec-fdc0-400f-c6e4-00b4d8ffce69"
      },
      "source": [
        "import matplotlib.pyplot as plt\n",
        "accs = history.history[\"acc\"]\n",
        "val_accs = history.history['val_acc']\n",
        "losses = history.history[\"loss\"]\n",
        "val_losses = history.history[\"val_acc\"]\n",
        "plt.plot(accs, label=\"train acc\")\n",
        "plt.plot(val_accs, label=\"validation acc\")\n",
        "plt.legend()\n"
      ],
      "execution_count": null,
      "outputs": [
        {
          "output_type": "execute_result",
          "data": {
            "text/plain": [
              "<matplotlib.legend.Legend at 0x7faf500459b0>"
            ]
          },
          "metadata": {
            "tags": []
          },
          "execution_count": 13
        },
        {
          "output_type": "display_data",
          "data": {
            "image/png": "[encoded data removed]",
            "text/plain": [
              "<Figure size 432x288 with 1 Axes>"
            ]
          },
          "metadata": {
            "tags": [],
            "needs_background": "light"
          }
        }
      ]
    },
    {
      "cell_type": "code",
      "metadata": {
        "id": "VuhKYznIW0Sn",
        "colab_type": "code",
        "colab": {
          "base_uri": "https://localhost:8080/",
          "height": 282
        },
        "outputId": "6932ac72-dbd9-4ff4-abee-99b36296a3fb"
      },
      "source": [
        "plt.plot(losses, label=\"train loss\")\n",
        "plt.plot(val_losses, label=\"validation loss\")\n",
        "plt.legend()"
      ],
      "execution_count": null,
      "outputs": [
        {
          "output_type": "execute_result",
          "data": {
            "text/plain": [
              "<matplotlib.legend.Legend at 0x7faf0a00ceb8>"
            ]
          },
          "metadata": {
            "tags": []
          },
          "execution_count": 14
        },
        {
          "output_type": "display_data",
          "data": {
            "image/png": "[encoded data removed]",
            "text/plain": [
              "<Figure size 432x288 with 1 Axes>"
            ]
          },
          "metadata": {
            "tags": [],
            "needs_background": "light"
          }
        }
      ]
    },
    {
      "cell_type": "code",
      "metadata": {
        "id": "gpkvCJq7Yn5P",
        "colab_type": "code",
        "colab": {}
      },
      "source": [
        ""
      ],
      "execution_count": null,
      "outputs": []
    }
  ]
}